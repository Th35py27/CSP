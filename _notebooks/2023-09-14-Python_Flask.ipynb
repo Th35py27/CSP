{
 "cells": [
  {
   "cell_type": "markdown",
   "metadata": {},
   "source": [
    "---\n",
    "toc: true\n",
    "comments: false\n",
    "layout: post\n",
    "title: Python Flask\n",
    "description:  Here's my flask\n",
    "courses: { compsci: {week: 4} }\n",
    "type: hacks\n",
    "---"
   ]
  },
  {
   "cell_type": "code",
   "execution_count": 2,
   "metadata": {},
   "outputs": [
    {
     "name": "stdout",
     "output_type": "stream",
     "text": [
      "Process is terminated.\n"
     ]
    }
   ],
   "source": [
    "%%python \n",
    "\n",
    "# Using the --bg allows us to run the cell in the background, so we can continue to use the notebook while the server is running. For Debugging purposes, we will keep --bg commented out.\n",
    "\n",
    "from flask import Flask, jsonify\n",
    "from flask_cors import CORS\n",
    "\n",
    "#If You are experienceing issues please reffer to the upper code and run those two commands.\n",
    "\n",
    "# initialize a flask application (app)\n",
    "app = Flask(__name__)\n",
    "CORS(app, supports_credentials=True, origins='*')  # Allow all origins (*)\n",
    "\n",
    "# ... your existing Flask\n",
    "\n",
    "# add an api endpoint to flask app\n",
    "@app.route('/api/data')\n",
    "def get_data():\n",
    "    # start a list, to be used like a information database\n",
    "    CarModels = []\n",
    "\n",
    "    # Add information about a car model\n",
    "    CarModels.append({\n",
    "        \"Brand\": \"Toyota\",\n",
    "        \"Model\": \"Camry\",\n",
    "        \"Color\": \"Silver\",\n",
    "        \"Price\": \"$25000\",\n",
    "        \"Year\": \"2022\"\n",
    "    })\n",
    "\n",
    "    # Add information about another car model\n",
    "    CarModels.append({\n",
    "        \"Brand\": \"Honda\",\n",
    "        \"Model\": \"Civic\",\n",
    "        \"Color\": \"Blue\",\n",
    "        \"Price\": \"$23000\",\n",
    "        \"Year\": \"2021\"\n",
    "    })\n",
    "\n",
    "    \n",
    "    return jsonify(CarModels)\n",
    "\n",
    "# add an HTML endpoint to flask app\n",
    "@app.route('/')\n",
    "def say_hello():\n",
    "    html_content = \"\"\"\n",
    "<html>\n",
    "<head>\n",
    "    <title>Car Models</title>\n",
    "</head>\n",
    "<body>\n",
    "    <h2>Car Models</h2>\n",
    "    <ul>\n",
    "    \n",
    "    </ul>\n",
    "</body>\n",
    "</html>\n",
    "\"\"\"\n",
    "    return html_content\n",
    "\n",
    "if __name__ == '__main__':\n",
    "    print(\"Starting Python Flask Server For Home Page\")\n",
    "    # starts flask server on default port, http://127.0.0.1:5001\n",
    "    app.run(port=5001)\n",
    "\n",
    "# Once the flask app is up and running you should see this below: Starting Python Flask Server For Home Page\n",
    "# * Serving Flask app '<stdin>'\n",
    "# * Debug mode: off\n",
    "#WARNING: This is a development server. Do not use it in a production deployment. Use a production WSGI server instead.\n",
    "# * Running on http://127.0.0.1:5001\n",
    "#Press CTRL+C to quit\n",
    "#Process is interrupted."
   ]
  },
  {
   "cell_type": "code",
   "execution_count": null,
   "metadata": {},
   "outputs": [],
   "source": []
  }
 ],
 "metadata": {
  "kernelspec": {
   "display_name": "Python 3",
   "language": "python",
   "name": "python3"
  },
  "language_info": {
   "codemirror_mode": {
    "name": "ipython",
    "version": 3
   },
   "file_extension": ".py",
   "mimetype": "text/x-python",
   "name": "python",
   "nbconvert_exporter": "python",
   "pygments_lexer": "ipython3",
   "version": "3.10.12"
  },
  "orig_nbformat": 4
 },
 "nbformat": 4,
 "nbformat_minor": 2
}
