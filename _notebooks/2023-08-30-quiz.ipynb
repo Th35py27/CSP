{
 "cells": [
  {
   "cell_type": "markdown",
   "metadata": {},
   "source": [
    "---\n",
    "toc: true\n",
    "comments: true\n",
    "layout: post\n",
    "title: Quiz\n",
    "description:  My quiz\n",
    "courses: { compsci: {week: 2} }\n",
    "type: hacks\n",
    "---"
   ]
  },
  {
   "cell_type": "code",
   "execution_count": 9,
   "metadata": {},
   "outputs": [
    {
     "name": "stdout",
     "output_type": "stream",
     "text": [
      "对\n",
      "1\n",
      "对\n",
      "2\n",
      "对\n",
      "3\n",
      "Absolutely amazing\n",
      "100.0\n"
     ]
    }
   ],
   "source": [
    "score = 0\n",
    "questions = 3\n",
    "\n",
    "answer = input(\"What is the capital of Canada?\")\n",
    "if answer.lower() == \"ottawa\":\n",
    "    print(\"对\")\n",
    "    score = score + 1\n",
    "    print(score)\n",
    "\n",
    "else:\n",
    "    print(\"错\")\n",
    "    \n",
    "answer2 = input(\"What is my name?\")\n",
    "if answer2.lower() == \"nandan\":\n",
    "    print(\"对\")\n",
    "    score = score + 1\n",
    "    print(score)\n",
    "\n",
    "else:\n",
    "    print(\"错\")\n",
    "\n",
    "\n",
    "answer3 = input(\"Who is the first president of the US? (last name only)\")\n",
    "if answer3.lower() == \"washington\":\n",
    "    print(\"对\")\n",
    "    score = score + 1\n",
    "    print(score)\n",
    "\n",
    "else:\n",
    "    print(\"错\")\n",
    "\n",
    "percent = score/questions * 100 \n",
    "\n",
    "if percent < 50:\n",
    "    print(\"Good try but not good\")\n",
    "    print(percent)\n",
    "else: \n",
    "    print(\"Absolutely amazing\")\n",
    "    print(percent)"
   ]
  }
 ],
 "metadata": {
  "kernelspec": {
   "display_name": "Python 3",
   "language": "python",
   "name": "python3"
  },
  "language_info": {
   "codemirror_mode": {
    "name": "ipython",
    "version": 3
   },
   "file_extension": ".py",
   "mimetype": "text/x-python",
   "name": "python",
   "nbconvert_exporter": "python",
   "pygments_lexer": "ipython3",
   "version": "3.10.12"
  },
  "orig_nbformat": 4
 },
 "nbformat": 4,
 "nbformat_minor": 2
}
