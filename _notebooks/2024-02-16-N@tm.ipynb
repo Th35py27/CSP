{
 "cells": [
  {
   "cell_type": "markdown",
   "metadata": {},
   "source": [
    "---\n",
    "toc: true\n",
    "comments: false\n",
    "layout: post\n",
    "title: N@tm Reflection\n",
    "description: N@tm stuff\n",
    "courses: { compsci: {week: 23} }\n",
    "type: hacks\n",
    "---"
   ]
  },
  {
   "cell_type": "markdown",
   "metadata": {},
   "source": [
    "## Reflection\n",
    "\n",
    "- Over the fast few weeks, I have been involved in various projects and assignments in class that deal with CPT. In our class however, we needed a login system and a feature to be shown in our project as per the class requirements. \n",
    "\n",
    "Glows:\n",
    "- I was able to work with databases and the files in the cpt project more efficiently\n",
    "- My python knowledge as improved significantly\n",
    "- I was able to use postman better than I was before\n",
    "\n",
    "Grows:\n",
    "- My frontend needs some work, my javascript is not as strong as I want it to\n",
    "- I need to understand the flow better \n",
    "- I need to learn more JS\n",
    "\n",
    "\n",
    "\n",
    "## Feedback\n",
    "- I am going to add a transaction table so people can view the number of coins they have for buying and selling\n",
    "- I am going to give a budget for every user so I can do some profit and loss calculations after that.\n",
    "- Get more integration with the user in the future. \n",
    "\n",
    "\n",
    "\n",
    "## Events I found interesting\n",
    "- I found the ASL project to be quite interesting, as it deals with AI and since AI is our future, projects like these are good for building artificial intelligence more advanced in the future.\n",
    "- The CSA project that was similar to ours, the stock market predictions was also really nice. They had more advanced features than us and used existing data to predict stock prices. The use of artifical intelligence here also surprised me. \n",
    "\n"
   ]
  }
 ],
 "metadata": {
  "language_info": {
   "name": "python"
  }
 },
 "nbformat": 4,
 "nbformat_minor": 2
}
