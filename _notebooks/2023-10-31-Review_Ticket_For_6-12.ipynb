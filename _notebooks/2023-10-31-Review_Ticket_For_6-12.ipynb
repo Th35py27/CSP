{
 "cells": [
  {
   "cell_type": "markdown",
   "metadata": {},
   "source": [
    "---\n",
    "comments: true\n",
    "layout: post\n",
    "title: Tri 1 Reflection\n",
    "description: Reflecting back on the trimester\n",
    "type: tangibles\n",
    "courses: { compsci: {week: 10} }\n",
    "---"
   ]
  },
  {
   "cell_type": "markdown",
   "metadata": {},
   "source": [
    "# Trimester 1 Reflection\n",
    "\n",
    "## Introduction\n",
    "- This trimester has been one of a kind as I've learnt many things so far ranging from python to javascript, but I've learnt more python than javascript this trimester at least.\n",
    "- I liked working with my group it has taught me lots of things and it was good working with our strengths and sharing our knowledge. \n",
    "\n",
    "\n",
    "## First 4 weeks\n",
    "\n",
    "- First four weeks were just the starting weeks where we work in pairs. I worked with my pair Arnav.\n",
    "- Somethings we did:\n",
    "1. We made a wikipedia serach like thing that searches for wikipedia articles. It used the wikipedia module by using import wikipedia. Sadly, as the javascript was pretty advanced we had to use chatgpt in order to help us complete the code. However, we did add comments to help us understand it. As we focused a lot on python this trimester, we haven't learnt as much javascript but I hope to learn more in the future.\n",
    "2. We made a small bash script program in which we ran an echo program for hello, this just shows us how to run a bash script for fun as this was part of the pair showcase requirements. We didn't do that many bash related things this trimester, but I hope to review my knowledge on bash so it can be later used next trimester. \n",
    "3. Something I made for fun is a quiz. Its a quiz in which it asks questions and then makes a point system based on that. For every question that is answered correctly, the person gets 1 point. If its answered incorrectly, then they will get 0 points. \n",
    "\n",
    "## 5-8 weeks\n",
    "\n",
    "- Here is where we got into teams and started to work on many things together. With my team, we worked on the Team Teach, Team Project and Passion Project. \n",
    "- We worked on a movie database in which we were assigned roles. We made it during the Team Project but for the Passion Project we decided to expand on this\n",
    "- We talked about Data Abstraction in the team teach and we assigned homework for people to practice with. Something I learned was that as most people know the Data Abstracton material as it is just variables and lists, the homework wasn't hard. \n",
    "\n",
    "## 9 - 12 weeks\n",
    "- Here is where we mainly worked on our Passion Project. For our passion project we created a movie database using multiple APIs and created our own database with retrieving movies from these APIs. \n",
    "- We worked on the front end and back end respectively in which we created a nicer looking front end using a color gradient and backend which powers the movie database. Some stuff that we have worked in the front end were the recommendation system and making the front end look really good. "
   ]
  }
 ],
 "metadata": {
  "language_info": {
   "name": "python"
  }
 },
 "nbformat": 4,
 "nbformat_minor": 2
}
