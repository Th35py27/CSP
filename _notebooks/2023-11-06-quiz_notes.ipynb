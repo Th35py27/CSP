{
 "cells": [
  {
   "cell_type": "markdown",
   "metadata": {},
   "source": [
    "## Questions and Notes\n",
    "\n",
    "### Things to Review:\n",
    "\n",
    "So based on whatever I have, I didn't have enough time to complete the multiple choice because I had many things to complete over the weekend. So, this multiple choice was kind of rushed and I didn't get much time to think for any of my questions. Anyways here are some things I need to review based on the questions I did wrong:\n",
    "\n",
    "Unit 5- Unit 5 consists of many things and the title of the topic is Impact on Computing. I had to guess a lot of these answers, because I didn't have time to talk about any of these. \n",
    "\n"
   ]
  }
 ],
 "metadata": {
  "language_info": {
   "name": "python"
  }
 },
 "nbformat": 4,
 "nbformat_minor": 2
}
