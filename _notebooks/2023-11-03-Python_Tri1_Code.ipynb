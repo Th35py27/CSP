{
 "cells": [
  {
   "cell_type": "markdown",
   "metadata": {},
   "source": [
    "---\n",
    "comments: true\n",
    "layout: post\n",
    "title: Final Project\n",
    "description: Everything I learnt in Python\n",
    "type: hacks\n",
    "courses: { compsci: {week: 11} }\n",
    "---"
   ]
  },
  {
   "cell_type": "code",
   "execution_count": 1,
   "metadata": {},
   "outputs": [
    {
     "name": "stdout",
     "output_type": "stream",
     "text": [
      "Hello, Nandan\n",
      "The sum of the two numbers is 7\n",
      "The difference of the two numbers is 3\n",
      "The product of the two numbers is 10\n",
      "The quotient of the two numbers is 2.5\n",
      "0\n",
      "1\n",
      "1\n",
      "2\n",
      "3\n",
      "5\n",
      "8\n",
      "13\n",
      "21\n",
      "34\n"
     ]
    }
   ],
   "source": [
    "import mymodule\n",
    "\n",
    "name = input(\"Hi! What is your name? \")\n",
    "mymodule.greeting(name)\n",
    "\n",
    "mymodule.adding(5, 2)\n",
    "mymodule.subtracting(5, 2)\n",
    "mymodule.multiplication(5, 2)\n",
    "mymodule.division(5, 2)\n",
    "\n",
    "mymodule.fibonacci(10)\n"
   ]
  }
 ],
 "metadata": {
  "kernelspec": {
   "display_name": "Python 3",
   "language": "python",
   "name": "python3"
  },
  "language_info": {
   "codemirror_mode": {
    "name": "ipython",
    "version": 3
   },
   "file_extension": ".py",
   "mimetype": "text/x-python",
   "name": "python",
   "nbconvert_exporter": "python",
   "pygments_lexer": "ipython3",
   "version": "3.10.12"
  }
 },
 "nbformat": 4,
 "nbformat_minor": 2
}
